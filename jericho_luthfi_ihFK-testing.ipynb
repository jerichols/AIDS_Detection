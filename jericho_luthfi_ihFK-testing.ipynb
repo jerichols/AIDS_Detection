{
 "cells": [
  {
   "cell_type": "markdown",
   "metadata": {},
   "source": [
    "### Memuat Modul dan Membuat Prediksi Menggunakan Model TensorFlow Serving\n",
    "\n",
    "Kode ini mengimpor modul yang diperlukan untuk memproses data, mengonversi data ke dalam format yang dapat dipahami oleh TensorFlow Serving, dan mengirimkan permintaan prediksi ke model yang di-hosting. Modul yang dimuat mencakup `base64` dan `json` untuk encoding dan decoding data, `pandas` untuk manipulasi data, `requests` untuk mengirim permintaan HTTP, dan `tensorflow` untuk fungsi terkait TensorFlow."
   ]
  },
  {
   "cell_type": "code",
   "execution_count": 43,
   "metadata": {},
   "outputs": [],
   "source": [
    "import base64\n",
    "import json\n",
    "import random\n",
    "import pandas as pd\n",
    "import requests\n",
    "import tensorflow as tf"
   ]
  },
  {
   "cell_type": "markdown",
   "metadata": {},
   "source": [
    "### Membaca Data CSV dan Menyiapkan Input untuk Prediksi\n",
    "\n",
    "Kode ini membaca data dari file CSV `AIDS_Classification.csv`, memisahkan kolom label `infected`, dan memilih secara acak satu baris data untuk digunakan sebagai fitur input. Baris data yang dipilih diubah menjadi dictionary yang berisi pasangan kunci-nilai dari nama kolom dan nilai fitur, siap untuk digunakan dalam prediksi model."
   ]
  },
  {
   "cell_type": "code",
   "execution_count": 44,
   "metadata": {},
   "outputs": [
    {
     "data": {
      "text/plain": [
       "{'time': 866.0,\n",
       " 'trt': 2.0,\n",
       " 'age': 33.0,\n",
       " 'wtkg': 70.7616,\n",
       " 'hemo': 0.0,\n",
       " 'homo': 1.0,\n",
       " 'drugs': 0.0,\n",
       " 'karnof': 100.0,\n",
       " 'oprior': 0.0,\n",
       " 'z30': 0.0,\n",
       " 'preanti': 0.0,\n",
       " 'race': 1.0,\n",
       " 'gender': 1.0,\n",
       " 'str2': 0.0,\n",
       " 'strat': 1.0,\n",
       " 'symptom': 0.0,\n",
       " 'treat': 1.0,\n",
       " 'offtrt': 0.0,\n",
       " 'cd40': 513.0,\n",
       " 'cd420': 576.0,\n",
       " 'cd80': 1512.0,\n",
       " 'cd820': 1368.0}"
      ]
     },
     "execution_count": 44,
     "metadata": {},
     "output_type": "execute_result"
    }
   ],
   "source": [
    "df = pd.read_csv(\"data/AIDS_Classification.csv\")\n",
    "y = df.pop(\"infected\")\n",
    "\n",
    "columns = df.columns.values\n",
    "rand = random.randint(0, len(df))\n",
    "\n",
    "features = df.values[rand]\n",
    "label = y[rand]\n",
    "\n",
    "inputs = {key: value for key, value in zip(columns, features)}\n",
    "inputs"
   ]
  },
  {
   "cell_type": "markdown",
   "metadata": {},
   "source": [
    "### Fungsi Konversi Tipe Data ke Format TensorFlow Feature\n",
    "\n",
    "Kode ini mendefinisikan tiga fungsi (`string_feature`, `float_feature`, dan `int_feature`) yang masing-masing mengonversi nilai string, float, dan integer menjadi objek `tf.train.Feature`. Objek `tf.train.Feature` ini kemudian dapat digunakan untuk membuat protokol buffer TensorFlow (`tf.train.Example`) yang diperlukan untuk melakukan prediksi dengan model TensorFlow Serving."
   ]
  },
  {
   "cell_type": "code",
   "execution_count": 45,
   "metadata": {},
   "outputs": [],
   "source": [
    "def string_feature(value):\n",
    "    return tf.train.Feature(\n",
    "        bytes_list=tf.train.BytesList(value=[bytes(value, \"utf-8\")]),\n",
    "    )\n",
    "\n",
    "\n",
    "def float_feature(value):\n",
    "    return tf.train.Feature(\n",
    "        float_list=tf.train.FloatList(value=[value]),\n",
    "    )\n",
    "\n",
    "\n",
    "def int_feature(value):\n",
    "    return tf.train.Feature(\n",
    "        int64_list=tf.train.Int64List(value=[value]),\n",
    "    )"
   ]
  },
  {
   "cell_type": "markdown",
   "metadata": {},
   "source": [
    "### Menyiapkan JSON untuk Prediksi dengan TensorFlow Serving\n",
    "\n",
    "Kode ini mendefinisikan fungsi `prepare_json` yang mengonversi dictionary input menjadi format JSON yang dapat diterima oleh TensorFlow Serving. Fitur-fitur input dikonversi menjadi objek `tf.train.Feature`, dikemas menjadi protokol buffer `tf.train.Example`, dan dienkode dalam base64 sebelum dikemas dalam format JSON untuk dikirim sebagai permintaan prediksi."
   ]
  },
  {
   "cell_type": "code",
   "execution_count": 46,
   "metadata": {},
   "outputs": [],
   "source": [
    "def prepare_json(inputs: dict):\n",
    "    feature_spec = dict()\n",
    "\n",
    "    for keys, values in inputs.items():\n",
    "        if keys == \"wtkg\":\n",
    "            feature_spec[keys] = float_feature(float(values))\n",
    "        else:\n",
    "            feature_spec[keys] = int_feature(int(values))\n",
    "\n",
    "    example = tf.train.Example(\n",
    "        features=tf.train.Features(feature=feature_spec)\n",
    "    ).SerializeToString()\n",
    "\n",
    "    result = [{\"examples\": {\"b64\": base64.b64encode(example).decode()}}]\n",
    "\n",
    "    return json.dumps(\n",
    "        {\n",
    "            \"signature_name\": \"serving_default\",\n",
    "            \"instances\": result,\n",
    "        }\n",
    "    )"
   ]
  },
  {
   "cell_type": "markdown",
   "metadata": {},
   "source": [
    "### Mengirimkan Input untuk Prediksi dan Mengembalikan Hasil\n",
    "\n",
    "Kode ini mendefinisikan fungsi `make_predictions` yang menyiapkan data input dalam format JSON menggunakan `prepare_json` dan mengirimkan permintaan POST ke endpoint model TensorFlow Serving. Fungsi ini mengembalikan hasil prediksi dengan mengevaluasi respons dari model, mengklasifikasikan hasil sebagai \"Not Infected\" atau \"Infected\" berdasarkan nilai prediksi."
   ]
  },
  {
   "cell_type": "code",
   "execution_count": 47,
   "metadata": {},
   "outputs": [
    {
     "data": {
      "text/plain": [
       "'Infected'"
      ]
     },
     "execution_count": 47,
     "metadata": {},
     "output_type": "execute_result"
    }
   ],
   "source": [
    "def make_predictions(inputs):\n",
    "    json_data = prepare_json(inputs)\n",
    "\n",
    "    endpoint = (\n",
    "        \"https://jericholuthfiihfk-pipeline-production.up.railway.app/v1/models/aids-model:predict\"\n",
    "    )\n",
    "    response = requests.post(endpoint, data=json_data)\n",
    "    prediction = response.json()[\"predictions\"][0][0]\n",
    "\n",
    "    if prediction < 0.6:\n",
    "        return \"Not Infected\"\n",
    "    else:\n",
    "        return \"Infected\"\n",
    "    \n",
    "make_predictions(inputs)"
   ]
  },
  {
   "cell_type": "markdown",
   "metadata": {},
   "source": [
    "### Menentukan Label dari Prediksi Model\n",
    "\n",
    "Variabel `label` menyimpan nilai yang menunjukkan kondisi aktual (ground truth) dari contoh data yang dipilih secara acak dari dataset, yaitu apakah individu tersebut terinfeksi atau tidak. Nilai ini digunakan untuk memeriksa akurasi prediksi yang dihasilkan oleh model."
   ]
  },
  {
   "cell_type": "code",
   "execution_count": 48,
   "metadata": {},
   "outputs": [
    {
     "data": {
      "text/plain": [
       "1"
      ]
     },
     "execution_count": 48,
     "metadata": {},
     "output_type": "execute_result"
    }
   ],
   "source": [
    "label"
   ]
  }
 ],
 "metadata": {
  "kernelspec": {
   "display_name": "myenv",
   "language": "python",
   "name": "python3"
  },
  "language_info": {
   "codemirror_mode": {
    "name": "ipython",
    "version": 3
   },
   "file_extension": ".py",
   "mimetype": "text/x-python",
   "name": "python",
   "nbconvert_exporter": "python",
   "pygments_lexer": "ipython3",
   "version": "3.9.2"
  }
 },
 "nbformat": 4,
 "nbformat_minor": 2
}
